{
  "nbformat": 4,
  "nbformat_minor": 0,
  "metadata": {
    "colab": {
      "provenance": []
    },
    "kernelspec": {
      "name": "python3",
      "display_name": "Python 3"
    },
    "language_info": {
      "name": "python"
    }
  },
  "cells": [
    {
      "cell_type": "markdown",
      "source": [
        "**Question1: Area of circle**"
      ],
      "metadata": {
        "id": "dveBGKYW-fOF"
      }
    },
    {
      "cell_type": "code",
      "execution_count": 1,
      "metadata": {
        "colab": {
          "base_uri": "https://localhost:8080/"
        },
        "id": "IjcXb3lHfV0e",
        "outputId": "8f9c51cc-4f95-46de-b4ee-0fe264ef8a1a"
      },
      "outputs": [
        {
          "output_type": "stream",
          "name": "stdout",
          "text": [
            "Enter radius :3\n",
            "Area of circle is : 28.274333882308138\n"
          ]
        }
      ],
      "source": [
        "import math\n",
        "rad = float(input(\"Enter radius :\"))\n",
        "area = math.pi * rad**2\n",
        "print(\"Area of circle is :\", area)"
      ]
    },
    {
      "cell_type": "markdown",
      "source": [
        "**Question2: Display input details**"
      ],
      "metadata": {
        "id": "i-U8Xo6H-qgD"
      }
    },
    {
      "cell_type": "code",
      "source": [
        "name = str(input(\"Enter the name: \"))\n",
        "roll_no = int(input(\"Enter the roll no: \"))\n",
        "marks = float(input(\"Enter the marks: \"))\n",
        "print(\"\\nName: \", name, \"\\nRoll no: \", roll_no, \"\\nMark: \", marks)\n"
      ],
      "metadata": {
        "colab": {
          "base_uri": "https://localhost:8080/"
        },
        "id": "gpj6vyKcgU1P",
        "outputId": "fae71a82-936d-435a-9c7c-104fcaa48013"
      },
      "execution_count": 3,
      "outputs": [
        {
          "output_type": "stream",
          "name": "stdout",
          "text": [
            "Enter the name: Devika\n",
            "Enter the roll no: 23\n",
            "Enter the marks: 87\n",
            "\n",
            "Name:  Devika \n",
            "Roll no:  23 \n",
            "Mark:  87.0\n"
          ]
        }
      ]
    },
    {
      "cell_type": "markdown",
      "source": [
        "**Question3: To find largest in a given list**"
      ],
      "metadata": {
        "id": "4mVrecG8-zDD"
      }
    },
    {
      "cell_type": "code",
      "source": [
        "list_len = int(input(\"Enter the length of list: \"))\n",
        "list1 = []\n",
        "print(\"Enter the numbers:\\n\")\n",
        "for i in range(list_len):\n",
        "  list1.append(int(input()))\n",
        "print(\"Largest number is: \", max(list1))"
      ],
      "metadata": {
        "colab": {
          "base_uri": "https://localhost:8080/"
        },
        "id": "VcV6XFSThCGd",
        "outputId": "450a5a35-60d7-4d29-ac9f-a320daf7449f"
      },
      "execution_count": 25,
      "outputs": [
        {
          "output_type": "stream",
          "name": "stdout",
          "text": [
            "enter the length of list: 4\n",
            "enter the numbers:\n",
            "\n",
            "-3\n",
            "-6\n",
            "-1\n",
            "0\n",
            "Largest number is:  0\n"
          ]
        }
      ]
    },
    {
      "cell_type": "markdown",
      "source": [
        "**Question4: Find sum of current and previous values**"
      ],
      "metadata": {
        "id": "7QhEEyJA_DQU"
      }
    },
    {
      "cell_type": "code",
      "source": [
        "range_of_num = int(input(\"Enter the range of numbers: \"))\n",
        "sum_value = 0\n",
        "for i in range(1,range_of_num + 1):\n",
        "  print(\"Current number: \",i, \" Previous number: \", sum_value, end = \" \")\n",
        "  sum_value = sum_value + i\n",
        "  print(\"Sum: \", sum_value)\n",
        "  sum_value = ++i\n",
        "\n"
      ],
      "metadata": {
        "colab": {
          "base_uri": "https://localhost:8080/"
        },
        "id": "czxHuSXPia1s",
        "outputId": "f20124c4-52a4-4c9e-acb0-34ea323231ad"
      },
      "execution_count": 10,
      "outputs": [
        {
          "output_type": "stream",
          "name": "stdout",
          "text": [
            "Enter the range of numbers: 10\n",
            "Current number:  1  Previous number:  0 Sum:  1\n",
            "Current number:  2  Previous number:  1 Sum:  3\n",
            "Current number:  3  Previous number:  2 Sum:  5\n",
            "Current number:  4  Previous number:  3 Sum:  7\n",
            "Current number:  5  Previous number:  4 Sum:  9\n",
            "Current number:  6  Previous number:  5 Sum:  11\n",
            "Current number:  7  Previous number:  6 Sum:  13\n",
            "Current number:  8  Previous number:  7 Sum:  15\n",
            "Current number:  9  Previous number:  8 Sum:  17\n",
            "Current number:  10  Previous number:  9 Sum:  19\n"
          ]
        }
      ]
    },
    {
      "cell_type": "markdown",
      "source": [
        "**Question5: Numbers divisible by 5**"
      ],
      "metadata": {
        "id": "Ft3dhwQb_Mwf"
      }
    },
    {
      "cell_type": "code",
      "source": [
        "limit = int(input(\"Enter the limit of array: \"))\n",
        "num_list = []\n",
        "print(\"Enter the numbers: \\n\")\n",
        "for i in range(limit):\n",
        "  num_list.append(int(input()))\n",
        "divisible_no = []\n",
        "for j in num_list:\n",
        "  if(j%5 == 0):\n",
        "    divisible_no.append(j)\n",
        "print(\"Numbers divisible by 5 are :\", divisible_no)"
      ],
      "metadata": {
        "colab": {
          "base_uri": "https://localhost:8080/"
        },
        "id": "UD_h5R3QuigA",
        "outputId": "00918892-05e0-48fd-d4aa-a531eaa90cc7"
      },
      "execution_count": 5,
      "outputs": [
        {
          "output_type": "stream",
          "name": "stdout",
          "text": [
            "Enter the limit of array: 5\n",
            "Enter the numbers: \n",
            "\n",
            "34\n",
            "20\n",
            "5\n",
            "45\n",
            "6\n",
            "Numbers divisible by 5 are : [20, 5, 45]\n"
          ]
        }
      ]
    },
    {
      "cell_type": "markdown",
      "source": [
        "**Question6: To check if given no is prime or not**"
      ],
      "metadata": {
        "id": "hdo_xjKg_VQr"
      }
    },
    {
      "cell_type": "code",
      "source": [
        "num = int(input(\"Enter the number: \"))\n",
        "if(num <= 1):\n",
        "  print(num,\" is not prime\")\n",
        "else:\n",
        "  for i in range(2,num//2+1):\n",
        "    if(num%i) == 0:\n",
        "      print(num,\" is not prime.\")\n",
        "      break\n",
        "  else:\n",
        "    print(num, \" is prime\")\n"
      ],
      "metadata": {
        "id": "_fglWy2U2pZi",
        "colab": {
          "base_uri": "https://localhost:8080/"
        },
        "outputId": "f7c221cd-3ea6-4dfe-94bf-fa072c746fae"
      },
      "execution_count": 7,
      "outputs": [
        {
          "output_type": "stream",
          "name": "stdout",
          "text": [
            "Enter the number: 3\n",
            "3  is prime\n"
          ]
        }
      ]
    },
    {
      "cell_type": "markdown",
      "source": [
        "**Question7: Reverse list**"
      ],
      "metadata": {
        "id": "f0lD0UqM_cWZ"
      }
    },
    {
      "cell_type": "code",
      "source": [
        "limit = int(input(\"Enter the length of array: \"))\n",
        "list1 = []\n",
        "print(\"Enter the numbers: \")\n",
        "for i in range(limit):\n",
        "  list1.append(int(input()))\n",
        "print(\"Original list is: \",list1)\n",
        "\n",
        "list2 =[] #for storing reversed array\n",
        "for j in range(0, len(list1)):\n",
        "  list2.append(list1[limit -1])\n",
        "  limit -= 1\n",
        "print(\"Reversed list is \",list2)"
      ],
      "metadata": {
        "colab": {
          "base_uri": "https://localhost:8080/"
        },
        "id": "4jdabBeQ5CYM",
        "outputId": "ee8a17a0-928c-4f70-daaa-ebc078362a5b"
      },
      "execution_count": 12,
      "outputs": [
        {
          "output_type": "stream",
          "name": "stdout",
          "text": [
            "Enter the length of array: 6\n",
            "Enter the numbers: \n",
            "21\n",
            "5\n",
            "67\n",
            "12\n",
            "78\n",
            "33\n",
            "Original list is:  [21, 5, 67, 12, 78, 33]\n",
            "Reversed list is  [33, 78, 12, 67, 5, 21]\n"
          ]
        }
      ]
    },
    {
      "cell_type": "markdown",
      "source": [
        "**Question8: Stars triangle pattern printing**"
      ],
      "metadata": {
        "id": "G4I92qJH_moD"
      }
    },
    {
      "cell_type": "code",
      "source": [
        "rows = int(input(\"Enter number of rows: \"))\n",
        "for i in range(rows + 1):\n",
        "  for j in range(i):\n",
        "    print(\"*\",end =\"\")\n",
        "  print(\"\\n\")"
      ],
      "metadata": {
        "colab": {
          "base_uri": "https://localhost:8080/"
        },
        "id": "1FojuR7684ZX",
        "outputId": "f41dc109-8120-400c-bad2-535ad90765c8"
      },
      "execution_count": 17,
      "outputs": [
        {
          "output_type": "stream",
          "name": "stdout",
          "text": [
            "Enter number of rows: 4\n",
            "\n",
            "\n",
            "*\n",
            "\n",
            "**\n",
            "\n",
            "***\n",
            "\n",
            "****\n",
            "\n"
          ]
        }
      ]
    },
    {
      "cell_type": "markdown",
      "source": [
        "**Question9: Maximum of 3 given numbers**"
      ],
      "metadata": {
        "id": "J3BUAz3e_1Zb"
      }
    },
    {
      "cell_type": "code",
      "source": [
        "list1 = []\n",
        "print(\"Enter 3 numbers: \")\n",
        "for i in range(3):\n",
        "  list1.append(int(input()))\n",
        "print(\"Maximum of given 3 numbers is: \", max(list1))"
      ],
      "metadata": {
        "colab": {
          "base_uri": "https://localhost:8080/"
        },
        "id": "rqM0P55eAm9K",
        "outputId": "598e564d-4076-4910-835f-7bfa50c1fe36"
      },
      "execution_count": 14,
      "outputs": [
        {
          "output_type": "stream",
          "name": "stdout",
          "text": [
            "Enter 3 numbers: \n",
            "3\n",
            "6\n",
            "7\n",
            "Maximum of given 3 numbers is:  7\n"
          ]
        }
      ]
    },
    {
      "cell_type": "markdown",
      "source": [
        "**Question10: Stars triangle and reverse triangle pattern**"
      ],
      "metadata": {
        "id": "KlYDU9fk_-Yj"
      }
    },
    {
      "cell_type": "code",
      "source": [
        "for i in range(5):\n",
        "  for j in range(i):\n",
        "    print(\"*\",end =\"\")\n",
        "  print(\"\\n\")\n",
        "\n",
        "for i in range(5,0,-1):\n",
        "  for j in range(i):\n",
        "    print(\"*\", end =\"\")\n",
        "  print(\"\\n\")"
      ],
      "metadata": {
        "colab": {
          "base_uri": "https://localhost:8080/"
        },
        "id": "TcvUFdZz6LvY",
        "outputId": "d4851dc1-dd6a-4c3f-e923-048d31a131a7"
      },
      "execution_count": 15,
      "outputs": [
        {
          "output_type": "stream",
          "name": "stdout",
          "text": [
            "\n",
            "\n",
            "*\n",
            "\n",
            "**\n",
            "\n",
            "***\n",
            "\n",
            "****\n",
            "\n",
            "*****\n",
            "\n",
            "****\n",
            "\n",
            "***\n",
            "\n",
            "**\n",
            "\n",
            "*\n",
            "\n"
          ]
        }
      ]
    }
  ]
}