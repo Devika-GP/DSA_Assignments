{
  "nbformat": 4,
  "nbformat_minor": 0,
  "metadata": {
    "colab": {
      "provenance": []
    },
    "kernelspec": {
      "name": "python3",
      "display_name": "Python 3"
    },
    "language_info": {
      "name": "python"
    }
  },
  "cells": [
    {
      "cell_type": "markdown",
      "source": [
        "**Question1: Character count in a string**"
      ],
      "metadata": {
        "id": "f7ZFz_bfSnL4"
      }
    },
    {
      "cell_type": "code",
      "execution_count": 10,
      "metadata": {
        "colab": {
          "base_uri": "https://localhost:8080/"
        },
        "id": "lFliLboXICgx",
        "outputId": "9f03711b-b5c3-4a42-c537-bdf603462be7"
      },
      "outputs": [
        {
          "output_type": "stream",
          "name": "stdout",
          "text": [
            "Enter a string value: assembly\n",
            "a  =  1\n",
            "s  =  2\n",
            "e  =  1\n",
            "m  =  1\n",
            "b  =  1\n",
            "l  =  1\n",
            "y  =  1\n"
          ]
        }
      ],
      "source": [
        "text = str(input(\"Enter a string value: \"))\n",
        "output_text = \"\"\n",
        "for i in text:\n",
        "  if output_text.count(i) == 0:\n",
        "    output_text += i\n",
        "for j in output_text:\n",
        "  print(j,\" = \",text.count(j))"
      ]
    },
    {
      "cell_type": "markdown",
      "source": [
        "**Question2: Maximum of 3 numbers**"
      ],
      "metadata": {
        "id": "4srcp_ptepJl"
      }
    },
    {
      "cell_type": "code",
      "source": [
        "num = []\n",
        "print(\"Enter 3 numbers: \")\n",
        "for i in range(3):\n",
        "  num.append(int(input()))\n",
        "print(\"Maximum of 3 given numbers is: \", max(num))"
      ],
      "metadata": {
        "colab": {
          "base_uri": "https://localhost:8080/"
        },
        "id": "DVlkbmlUTTJE",
        "outputId": "69b901fb-2c6e-4050-809e-1ad5915965cf"
      },
      "execution_count": 21,
      "outputs": [
        {
          "output_type": "stream",
          "name": "stdout",
          "text": [
            "Enter 3 numbers: \n",
            "34\n",
            "12\n",
            "5\n",
            "Maximum of 3 given numbers is:  34\n"
          ]
        }
      ]
    },
    {
      "cell_type": "markdown",
      "source": [
        "**Question3: Exponent function**"
      ],
      "metadata": {
        "id": "8FPrASQBfj2P"
      }
    },
    {
      "cell_type": "code",
      "source": [
        "def exponent(base, exp):\n",
        "  return base**exp\n",
        "base_num = int(input(\"Enter the base: \"))\n",
        "exp_num = int(input(\"Enter the exponent: \"))\n",
        "print(base_num,\"^\",exp_num, \"= \",exponent(base_num, exp_num))"
      ],
      "metadata": {
        "colab": {
          "base_uri": "https://localhost:8080/"
        },
        "id": "i-hTgO8kfNMH",
        "outputId": "c600b243-de52-4f48-d55d-d10f10f622a8"
      },
      "execution_count": 23,
      "outputs": [
        {
          "output_type": "stream",
          "name": "stdout",
          "text": [
            "Enter the base: 2\n",
            "Enter the exponent: 8\n",
            "2 ^ 8 =  256\n"
          ]
        }
      ]
    },
    {
      "cell_type": "markdown",
      "source": [
        "**Question4: Sum of cubes till given number**"
      ],
      "metadata": {
        "id": "BEWSPOdBgzcV"
      }
    },
    {
      "cell_type": "code",
      "source": [
        "num = int(input(\"Enter the limit number: \"))\n",
        "sum = 0\n",
        "for i in range(1,num):\n",
        "  sum += i**3\n",
        "print(\"Sum of cubes till \",num, \"is \", sum)"
      ],
      "metadata": {
        "colab": {
          "base_uri": "https://localhost:8080/"
        },
        "id": "59LQ8BCzgTZT",
        "outputId": "eadeaec4-7511-48ab-cad7-98a28ca47af3"
      },
      "execution_count": 25,
      "outputs": [
        {
          "output_type": "stream",
          "name": "stdout",
          "text": [
            "Enter the limit number: 4\n",
            "Sum of cubes till  4 is  36\n"
          ]
        }
      ]
    },
    {
      "cell_type": "markdown",
      "source": [
        "**Question5: FizzBuzz**"
      ],
      "metadata": {
        "id": "KidL6ndFhvI0"
      }
    },
    {
      "cell_type": "code",
      "source": [
        "output_value =\"\"\n",
        "print(\"Input: \",end =\"\")\n",
        "for i in range(1,11):\n",
        "  print(i,end =\" \")\n",
        "  if(i%2 == 0 and i%5 == 0):\n",
        "    output_value += \"FizzBuzz\"\n",
        "  elif(i%2 == 0):\n",
        "    output_value += \"Fizz\"\n",
        "  elif(i%5 == 0):\n",
        "    output_value += \"Buzz\"\n",
        "  else:\n",
        "    output_value += str(i)\n",
        "print(\"\\nOutput: \",output_value)"
      ],
      "metadata": {
        "colab": {
          "base_uri": "https://localhost:8080/"
        },
        "id": "GzY0gRMIhbtu",
        "outputId": "93fbbf97-b40f-419f-e60f-683e2fdec826"
      },
      "execution_count": 34,
      "outputs": [
        {
          "output_type": "stream",
          "name": "stdout",
          "text": [
            "Input: 1 2 3 4 5 6 7 8 9 10 \n",
            "Output:  1Fizz3FizzBuzzFizz7Fizz9FizzBuzz\n"
          ]
        }
      ]
    },
    {
      "cell_type": "markdown",
      "source": [
        "**Question6: Most frequent number**"
      ],
      "metadata": {
        "id": "BEFCYcNbkH9J"
      }
    },
    {
      "cell_type": "code",
      "source": [
        "import numpy as np\n",
        "list1 = np.array([], dtype = int)\n",
        "limit = int(input(\"Enter the limit of array: \"))\n",
        "print(\"Enter the numbers: \")\n",
        "for i in range(limit):\n",
        "  list1 = np.append(list1, int(input()))\n",
        "print(\"Most frequent number is: \",np.bincount(list1).argmax())"
      ],
      "metadata": {
        "colab": {
          "base_uri": "https://localhost:8080/"
        },
        "id": "JqSYkcQ8iwwB",
        "outputId": "f280c08d-ccb4-4bba-b073-143533072e45"
      },
      "execution_count": 12,
      "outputs": [
        {
          "output_type": "stream",
          "name": "stdout",
          "text": [
            "Enter the limit of array: 7\n",
            "Enter the numbers: \n",
            "2\n",
            "3\n",
            "4\n",
            "2\n",
            "5\n",
            "2\n",
            "5\n",
            "Most frequent number is:  2\n"
          ]
        }
      ]
    },
    {
      "cell_type": "markdown",
      "source": [
        "**Question7: Sum of squares in a list**"
      ],
      "metadata": {
        "id": "ILzCnJ9Fh8Qu"
      }
    },
    {
      "cell_type": "code",
      "source": [
        "list1 = []\n",
        "limit = int(input(\"Enter the limit of array: \"))\n",
        "print(\"Enter the numbers: \")\n",
        "for i in range(limit):\n",
        "  list1.append(int(input()))\n",
        "sum = 0\n",
        "for j in range(len(list1)):\n",
        "  sum += list1[j]**2\n",
        "print(\"Sum of squares: \", sum)"
      ],
      "metadata": {
        "colab": {
          "base_uri": "https://localhost:8080/"
        },
        "id": "6xowJRHcliYW",
        "outputId": "1b9d31d8-8061-454d-bbf0-5910fa1f15ba"
      },
      "execution_count": 17,
      "outputs": [
        {
          "output_type": "stream",
          "name": "stdout",
          "text": [
            "Enter the limit of array: 4\n",
            "Enter the numbers: \n",
            "2\n",
            "1\n",
            "3\n",
            "1\n",
            "Sum of squares:  15\n"
          ]
        }
      ]
    },
    {
      "cell_type": "markdown",
      "source": [
        "**Question8: Odd or Even**"
      ],
      "metadata": {
        "id": "_s7d-dMUjaZX"
      }
    },
    {
      "cell_type": "code",
      "source": [
        "for i in range(1,16):\n",
        "  if i%2 == 0:\n",
        "    print(i, \"-even\")\n",
        "  else:\n",
        "    print(i,\"-odd\")"
      ],
      "metadata": {
        "colab": {
          "base_uri": "https://localhost:8080/"
        },
        "id": "PiF74GfNi_rN",
        "outputId": "3eec3e56-8a57-4f02-b2b1-e4a5793caca6"
      },
      "execution_count": 19,
      "outputs": [
        {
          "output_type": "stream",
          "name": "stdout",
          "text": [
            "1 -odd\n",
            "2 -even\n",
            "3 -odd\n",
            "4 -even\n",
            "5 -odd\n",
            "6 -even\n",
            "7 -odd\n",
            "8 -even\n",
            "9 -odd\n",
            "10 -even\n",
            "11 -odd\n",
            "12 -even\n",
            "13 -odd\n",
            "14 -even\n",
            "15 -odd\n"
          ]
        }
      ]
    },
    {
      "cell_type": "markdown",
      "source": [
        "**Question9: Temperature conversion**"
      ],
      "metadata": {
        "id": "-B_Ng1qdkPsb"
      }
    },
    {
      "cell_type": "code",
      "source": [
        "f = float(input(\"Temperature in Fahrenheit= \"))\n",
        "c = 5*((f-32)/9)\n",
        "print(\"Temperature in Celsius= \",c)"
      ],
      "metadata": {
        "colab": {
          "base_uri": "https://localhost:8080/"
        },
        "id": "ZD1ghygTj0WV",
        "outputId": "cb0e976b-d978-47e8-c853-a22866afc5e0"
      },
      "execution_count": 23,
      "outputs": [
        {
          "output_type": "stream",
          "name": "stdout",
          "text": [
            "Temperature in Fahrenheit= 41\n",
            "Temperature in Celsius=  5.0\n"
          ]
        }
      ]
    },
    {
      "cell_type": "markdown",
      "source": [
        "**Question10: Factorial of a number**"
      ],
      "metadata": {
        "id": "SUi3BIkhlIl1"
      }
    },
    {
      "cell_type": "code",
      "source": [
        "num = int(input(\"Enter the number: \"))\n",
        "print(num,\"!= \",end =\"\")\n",
        "for i in range(1, num):\n",
        "  num = num * i\n",
        "  i+=1\n",
        "print(num)"
      ],
      "metadata": {
        "colab": {
          "base_uri": "https://localhost:8080/"
        },
        "id": "sS0xM9TAk7Hr",
        "outputId": "2060e799-d208-4a07-c927-280ca2395b5f"
      },
      "execution_count": 8,
      "outputs": [
        {
          "output_type": "stream",
          "name": "stdout",
          "text": [
            "Enter the number: 4\n",
            "4 != 24\n"
          ]
        }
      ]
    }
  ]
}