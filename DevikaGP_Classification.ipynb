{
  "nbformat": 4,
  "nbformat_minor": 0,
  "metadata": {
    "colab": {
      "provenance": []
    },
    "kernelspec": {
      "name": "python3",
      "display_name": "Python 3"
    },
    "language_info": {
      "name": "python"
    }
  },
  "cells": [
    {
      "cell_type": "markdown",
      "source": [
        "Loading necessary libraries"
      ],
      "metadata": {
        "id": "MjGU5S7yAexY"
      }
    },
    {
      "cell_type": "code",
      "execution_count": 2,
      "metadata": {
        "id": "IYr2-UkeVUmU"
      },
      "outputs": [],
      "source": [
        "import pandas as pd\n",
        "import numpy as np\n",
        "import matplotlib.pyplot as plt\n",
        "import seaborn as sns\n",
        "from sklearn.metrics import confusion_matrix,accuracy_score,precision_score,recall_score,f1_score\n"
      ]
    },
    {
      "cell_type": "markdown",
      "source": [
        "Reading dataset and viewing general information"
      ],
      "metadata": {
        "id": "QKr7w89ZA_jR"
      }
    },
    {
      "cell_type": "code",
      "source": [
        "iris_data = pd.read_excel('iris.xls')"
      ],
      "metadata": {
        "id": "ij84AwmWVW1F"
      },
      "execution_count": 3,
      "outputs": []
    },
    {
      "cell_type": "code",
      "source": [
        "print(iris_data.head())\n",
        "print(iris_data.info())\n",
        "print(iris_data.isna().sum())"
      ],
      "metadata": {
        "colab": {
          "base_uri": "https://localhost:8080/"
        },
        "id": "SjLEj7LiVgjm",
        "outputId": "b09c4701-4888-4d27-a7ad-886db3a02489"
      },
      "execution_count": 4,
      "outputs": [
        {
          "output_type": "stream",
          "name": "stdout",
          "text": [
            "    SL   SW   PL   PW Classification\n",
            "0  5.1  3.5  1.4  0.2    Iris-setosa\n",
            "1  4.9  3.0  1.4  0.2    Iris-setosa\n",
            "2  NaN  3.2  1.3  0.2    Iris-setosa\n",
            "3  4.6  3.1  1.5  0.2    Iris-setosa\n",
            "4  5.0  3.6  1.4  0.2    Iris-setosa\n",
            "<class 'pandas.core.frame.DataFrame'>\n",
            "RangeIndex: 150 entries, 0 to 149\n",
            "Data columns (total 5 columns):\n",
            " #   Column          Non-Null Count  Dtype  \n",
            "---  ------          --------------  -----  \n",
            " 0   SL              143 non-null    float64\n",
            " 1   SW              144 non-null    float64\n",
            " 2   PL              144 non-null    float64\n",
            " 3   PW              150 non-null    float64\n",
            " 4   Classification  150 non-null    object \n",
            "dtypes: float64(4), object(1)\n",
            "memory usage: 6.0+ KB\n",
            "None\n",
            "SL                7\n",
            "SW                6\n",
            "PL                6\n",
            "PW                0\n",
            "Classification    0\n",
            "dtype: int64\n"
          ]
        }
      ]
    },
    {
      "cell_type": "code",
      "source": [
        "freq_data = iris_data.select_dtypes('float64')\n",
        "freq_data.hist()\n",
        "plt.show()"
      ],
      "metadata": {
        "colab": {
          "base_uri": "https://localhost:8080/",
          "height": 452
        },
        "id": "-2sd9GRyVsGO",
        "outputId": "7b870145-acd1-490e-9918-02169dbe77a0"
      },
      "execution_count": 5,
      "outputs": [
        {
          "output_type": "display_data",
          "data": {
            "text/plain": [
              "<Figure size 640x480 with 4 Axes>"
            ],
            "image/png": "[encoded data removed]"
          },
          "metadata": {}
        }
      ]
    },
    {
      "cell_type": "markdown",
      "source": [
        "Handling null values"
      ],
      "metadata": {
        "id": "7qy_Ls_8BSFY"
      }
    },
    {
      "cell_type": "code",
      "source": [
        "iris_data['SL'] = iris_data['SL'].fillna(iris_data['SL'].mean())#as it's a normalised distribution\n",
        "iris_data['SW'] = iris_data['SW'].fillna(iris_data['SW'].mean())#as it's a normalised distribution\n",
        "iris_data['PL'] = iris_data['PL'].fillna(iris_data['PL'].median())#skewed data"
      ],
      "metadata": {
        "id": "fUTHoUUCV-PW"
      },
      "execution_count": 6,
      "outputs": []
    },
    {
      "cell_type": "code",
      "source": [
        "iris_data.isna().sum()"
      ],
      "metadata": {
        "colab": {
          "base_uri": "https://localhost:8080/"
        },
        "id": "PuYLPS2Taehp",
        "outputId": "035cbd0f-ec47-49fc-d7b4-261d89191a9f"
      },
      "execution_count": 7,
      "outputs": [
        {
          "output_type": "execute_result",
          "data": {
            "text/plain": [
              "SL                0\n",
              "SW                0\n",
              "PL                0\n",
              "PW                0\n",
              "Classification    0\n",
              "dtype: int64"
            ]
          },
          "metadata": {},
          "execution_count": 7
        }
      ]
    },
    {
      "cell_type": "markdown",
      "source": [
        "Label Encoding for 'Classification'"
      ],
      "metadata": {
        "id": "g6acAYIeEt6A"
      }
    },
    {
      "cell_type": "code",
      "source": [
        "import sklearn.preprocessing as sk\n",
        "x_le = sk.LabelEncoder()\n",
        "iris_data['Classification'] = x_le.fit_transform(iris_data['Classification'])"
      ],
      "metadata": {
        "id": "ddiyuXi0ail6"
      },
      "execution_count": 8,
      "outputs": []
    },
    {
      "cell_type": "code",
      "source": [
        "#checking outlier\n",
        "iris_data.boxplot()\n",
        "plt.show()"
      ],
      "metadata": {
        "colab": {
          "base_uri": "https://localhost:8080/",
          "height": 430
        },
        "id": "gc-FwgrH7vR3",
        "outputId": "bc8ceac1-ff79-4e44-c0f2-c4e49ca39b03"
      },
      "execution_count": 9,
      "outputs": [
        {
          "output_type": "display_data",
          "data": {
            "text/plain": [
              "<Figure size 640x480 with 1 Axes>"
            ],
            "image/png": "[encoded data removed]"
          },
          "metadata": {}
        }
      ]
    },
    {
      "cell_type": "markdown",
      "source": [
        "Outlier handling in 'SW'"
      ],
      "metadata": {
        "id": "buSlnCENE0aY"
      }
    },
    {
      "cell_type": "code",
      "source": [
        "#handling outliers in SW\n",
        "\n",
        "q1 = np.percentile(iris_data['SW'], 25, method = 'midpoint')\n",
        "q3 = np.percentile(iris_data['SW'], 75, method = 'midpoint')\n",
        "print('q1 for SW: ',q1,'\\nq3 for SW: ',q3)\n",
        "IQR = q3-q1\n",
        "print('IQR for SW: ',IQR)\n",
        "low_lim = q1 - 1.5*IQR\n",
        "up_lim = q3 + 1.5*IQR\n",
        "print('lower whisker for SW: ', low_lim,'\\nupper whisker for SW :', up_lim)\n",
        "\n",
        "outlier =[]\n",
        "for x in iris_data['SW']:\n",
        "  if(x<low_lim or x>up_lim):\n",
        "    outlier.append(x)\n",
        "print('Outlier for SW: ',outlier)"
      ],
      "metadata": {
        "colab": {
          "base_uri": "https://localhost:8080/"
        },
        "id": "WagMhx468NsK",
        "outputId": "5fd7158c-f729-4808-d77e-7c6212469859"
      },
      "execution_count": 10,
      "outputs": [
        {
          "output_type": "stream",
          "name": "stdout",
          "text": [
            "q1 for SW:  2.8 \n",
            "q3 for SW:  3.25\n",
            "IQR for SW:  0.4500000000000002\n",
            "lower whisker for SW:  2.1249999999999996 \n",
            "upper whisker for SW : 3.9250000000000003\n",
            "Outlier for SW:  [4.0, 4.4, 4.1, 4.2, 2.0]\n"
          ]
        }
      ]
    },
    {
      "cell_type": "code",
      "source": [
        "#data clipping to optimize outliers\n",
        "\n",
        "iris_data['SW'] = iris_data['SW'].clip(lower = low_lim, upper = up_lim)"
      ],
      "metadata": {
        "id": "6ExAIqsv8x24"
      },
      "execution_count": 11,
      "outputs": []
    },
    {
      "cell_type": "markdown",
      "source": [
        "Checking correlation"
      ],
      "metadata": {
        "id": "BgHgedOoE4_4"
      }
    },
    {
      "cell_type": "code",
      "source": [
        "sns.heatmap(iris_data.corr(), annot = True)"
      ],
      "metadata": {
        "colab": {
          "base_uri": "https://localhost:8080/",
          "height": 452
        },
        "id": "yZmdH9S-4yjx",
        "outputId": "249f267c-a6d4-4ee5-ac80-78a7b3adb6cd"
      },
      "execution_count": 12,
      "outputs": [
        {
          "output_type": "execute_result",
          "data": {
            "text/plain": [
              "<Axes: >"
            ]
          },
          "metadata": {},
          "execution_count": 12
        },
        {
          "output_type": "display_data",
          "data": {
            "text/plain": [
              "<Figure size 640x480 with 2 Axes>"
            ],
            "image/png": "[encoded data removed]"
          },
          "metadata": {}
        }
      ]
    },
    {
      "cell_type": "code",
      "source": [
        "#dropping highly correlated columns\n",
        "iris_data.drop(['PL'], axis = 1, inplace = True)\n",
        "iris_data.drop(['SL'], axis = 1, inplace = True)"
      ],
      "metadata": {
        "id": "p7sxDLPv5JnH"
      },
      "execution_count": 13,
      "outputs": []
    },
    {
      "cell_type": "code",
      "source": [
        "sns.heatmap(iris_data.corr(), annot = True)"
      ],
      "metadata": {
        "colab": {
          "base_uri": "https://localhost:8080/",
          "height": 452
        },
        "id": "MoL5_IhEqyEY",
        "outputId": "4cd3f89d-4d6e-4df2-d9da-91792d022cc9"
      },
      "execution_count": 14,
      "outputs": [
        {
          "output_type": "execute_result",
          "data": {
            "text/plain": [
              "<Axes: >"
            ]
          },
          "metadata": {},
          "execution_count": 14
        },
        {
          "output_type": "display_data",
          "data": {
            "text/plain": [
              "<Figure size 640x480 with 2 Axes>"
            ],
            "image/png": "[encoded data removed]"
          },
          "metadata": {}
        }
      ]
    },
    {
      "cell_type": "markdown",
      "source": [
        "Splitting into independent and dependent features"
      ],
      "metadata": {
        "id": "hE7P-uQrE--p"
      }
    },
    {
      "cell_type": "code",
      "source": [
        "y = iris_data['Classification']\n",
        "x = iris_data.drop(['Classification'], axis = 1)"
      ],
      "metadata": {
        "id": "v9srOnMsCYzi"
      },
      "execution_count": 15,
      "outputs": []
    },
    {
      "cell_type": "markdown",
      "source": [
        "Splitting into training and testing sets"
      ],
      "metadata": {
        "id": "kpPc6OtuFJd8"
      }
    },
    {
      "cell_type": "code",
      "source": [
        "from sklearn.model_selection import train_test_split\n",
        "x_train, x_test, y_train, y_test = train_test_split(x, y, random_state = 42, test_size = .33)"
      ],
      "metadata": {
        "id": "JvJBuALjDQ_4"
      },
      "execution_count": 16,
      "outputs": []
    },
    {
      "cell_type": "markdown",
      "source": [
        "**Logistic Regression**"
      ],
      "metadata": {
        "id": "liSZ4oMZqCQm"
      }
    },
    {
      "cell_type": "code",
      "source": [
        "from sklearn.linear_model import LogisticRegression\n",
        "clf = LogisticRegression()\n",
        "model = clf.fit(x_train, y_train)\n",
        "pred_y = model.predict(x_test)"
      ],
      "metadata": {
        "id": "BDIvIReuDVav"
      },
      "execution_count": 17,
      "outputs": []
    },
    {
      "cell_type": "code",
      "source": [
        "print(confusion_matrix(y_test,pred_y))"
      ],
      "metadata": {
        "colab": {
          "base_uri": "https://localhost:8080/"
        },
        "id": "4KUzDfyJDhUk",
        "outputId": "cf388934-8178-4156-d85a-1d5007a89e2e"
      },
      "execution_count": 18,
      "outputs": [
        {
          "output_type": "stream",
          "name": "stdout",
          "text": [
            "[[19  0  0]\n",
            " [ 0 13  2]\n",
            " [ 0  1 15]]\n"
          ]
        }
      ]
    },
    {
      "cell_type": "markdown",
      "source": [
        "Defining a function to check various scores for each model"
      ],
      "metadata": {
        "id": "Okfp8sxkFOvf"
      }
    },
    {
      "cell_type": "code",
      "source": [
        "def Score_Comparison(y_test, pred_y):\n",
        "  print('Accuracy score: ', accuracy_score(y_test,pred_y))\n",
        "  print('Precision score: ', precision_score(y_test,pred_y, average = 'micro'))\n",
        "  print('Recall score: ', recall_score(y_test,pred_y, average = 'micro'))\n",
        "  print('F1 score: ', f1_score(y_test,pred_y, average = 'micro'))"
      ],
      "metadata": {
        "id": "gPRHkySzqHhe"
      },
      "execution_count": 19,
      "outputs": []
    },
    {
      "cell_type": "code",
      "source": [
        "Score_Comparison(y_test, pred_y)"
      ],
      "metadata": {
        "colab": {
          "base_uri": "https://localhost:8080/"
        },
        "id": "CH162Nw3Dmj2",
        "outputId": "f8bae9d3-935b-49fe-ec93-f46c6755e424"
      },
      "execution_count": 20,
      "outputs": [
        {
          "output_type": "stream",
          "name": "stdout",
          "text": [
            "Accuracy score:  0.94\n",
            "Precision score:  0.94\n",
            "Recall score:  0.94\n",
            "F1 score:  0.94\n"
          ]
        }
      ]
    },
    {
      "cell_type": "markdown",
      "source": [
        "**k-NN**"
      ],
      "metadata": {
        "id": "Yr2ytOOh9aBd"
      }
    },
    {
      "cell_type": "code",
      "source": [
        "from sklearn.neighbors import KNeighborsClassifier\n",
        "metric_k =[]\n",
        "neighbors = np.arange(3,15)"
      ],
      "metadata": {
        "id": "l3_Afz7dDnDG"
      },
      "execution_count": 21,
      "outputs": []
    },
    {
      "cell_type": "markdown",
      "source": [
        "Checking for best neighbour"
      ],
      "metadata": {
        "id": "HLaOXHY2FdVN"
      }
    },
    {
      "cell_type": "code",
      "source": [
        "for k in neighbors:\n",
        "  classifier= KNeighborsClassifier(n_neighbors=k,metric='minkowski', p =2)\n",
        "  classifier.fit(x_train, y_train)\n",
        "  y_pred_knn = classifier.predict(x_test)\n",
        "  accuracy = accuracy_score(y_test,y_pred_knn)\n",
        "  metric_k.append(accuracy)"
      ],
      "metadata": {
        "id": "OV4lQHge9c8i"
      },
      "execution_count": 22,
      "outputs": []
    },
    {
      "cell_type": "code",
      "source": [
        "plt.plot(neighbors,metric_k,'o-')\n",
        "plt.xlabel('K value')\n",
        "plt.ylabel('Accuracy')"
      ],
      "metadata": {
        "colab": {
          "base_uri": "https://localhost:8080/",
          "height": 466
        },
        "id": "iYpGlDNVAcXQ",
        "outputId": "786e8bce-88c9-48f2-cae0-70cf6088a2b9"
      },
      "execution_count": 23,
      "outputs": [
        {
          "output_type": "execute_result",
          "data": {
            "text/plain": [
              "Text(0, 0.5, 'Accuracy')"
            ]
          },
          "metadata": {},
          "execution_count": 23
        },
        {
          "output_type": "display_data",
          "data": {
            "text/plain": [
              "<Figure size 640x480 with 1 Axes>"
            ],
            "image/png": "[encoded data removed]"
          },
          "metadata": {}
        }
      ]
    },
    {
      "cell_type": "code",
      "source": [
        "classifier= KNeighborsClassifier(n_neighbors=8,metric='minkowski', p =2)\n",
        "classifier.fit(x_train, y_train)\n",
        "y_pred_knn = classifier.predict(x_test)\n",
        "\n",
        "Score_Comparison(y_test, y_pred_knn)"
      ],
      "metadata": {
        "colab": {
          "base_uri": "https://localhost:8080/"
        },
        "id": "ZALjyXxpAc5w",
        "outputId": "323fd8de-d588-4a52-ab94-a605996c8ee2"
      },
      "execution_count": 24,
      "outputs": [
        {
          "output_type": "stream",
          "name": "stdout",
          "text": [
            "Accuracy score:  0.98\n",
            "Precision score:  0.98\n",
            "Recall score:  0.98\n",
            "F1 score:  0.98\n"
          ]
        }
      ]
    },
    {
      "cell_type": "markdown",
      "source": [
        "**SVM model**"
      ],
      "metadata": {
        "id": "Ql5LdUiFtLPn"
      }
    },
    {
      "cell_type": "code",
      "source": [
        "from sklearn.svm import SVC\n",
        "sv_cl = SVC(kernel='rbf')\n",
        "sv_cl.fit(x_train,y_train)"
      ],
      "metadata": {
        "colab": {
          "base_uri": "https://localhost:8080/",
          "height": 75
        },
        "id": "5HR26getTGSN",
        "outputId": "27a00ce2-5638-4503-d1fe-619d2c83eba3"
      },
      "execution_count": 25,
      "outputs": [
        {
          "output_type": "execute_result",
          "data": {
            "text/plain": [
              "SVC()"
            ],
            "text/html": [
              "<style>#sk-container-id-1 {color: black;background-color: white;}#sk-container-id-1 pre{padding: 0;}#sk-container-id-1 div.sk-toggleable {background-color: white;}#sk-container-id-1 label.sk-toggleable__label {cursor: pointer;display: block;width: 100%;margin-bottom: 0;padding: 0.3em;box-sizing: border-box;text-align: center;}#sk-container-id-1 label.sk-toggleable__label-arrow:before {content: \"▸\";float: left;margin-right: 0.25em;color: #696969;}#sk-container-id-1 label.sk-toggleable__label-arrow:hover:before {color: black;}#sk-container-id-1 div.sk-estimator:hover label.sk-toggleable__label-arrow:before {color: black;}#sk-container-id-1 div.sk-toggleable__content {max-height: 0;max-width: 0;overflow: hidden;text-align: left;background-color: #f0f8ff;}#sk-container-id-1 div.sk-toggleable__content pre {margin: 0.2em;color: black;border-radius: 0.25em;background-color: #f0f8ff;}#sk-container-id-1 input.sk-toggleable__control:checked~div.sk-toggleable__content {max-height: 200px;max-width: 100%;overflow: auto;}#sk-container-id-1 input.sk-toggleable__control:checked~label.sk-toggleable__label-arrow:before {content: \"▾\";}#sk-container-id-1 div.sk-estimator input.sk-toggleable__control:checked~label.sk-toggleable__label {background-color: #d4ebff;}#sk-container-id-1 div.sk-label input.sk-toggleable__control:checked~label.sk-toggleable__label {background-color: #d4ebff;}#sk-container-id-1 input.sk-hidden--visually {border: 0;clip: rect(1px 1px 1px 1px);clip: rect(1px, 1px, 1px, 1px);height: 1px;margin: -1px;overflow: hidden;padding: 0;position: absolute;width: 1px;}#sk-container-id-1 div.sk-estimator {font-family: monospace;background-color: #f0f8ff;border: 1px dotted black;border-radius: 0.25em;box-sizing: border-box;margin-bottom: 0.5em;}#sk-container-id-1 div.sk-estimator:hover {background-color: #d4ebff;}#sk-container-id-1 div.sk-parallel-item::after {content: \"\";width: 100%;border-bottom: 1px solid gray;flex-grow: 1;}#sk-container-id-1 div.sk-label:hover label.sk-toggleable__label {background-color: #d4ebff;}#sk-container-id-1 div.sk-serial::before {content: \"\";position: absolute;border-left: 1px solid gray;box-sizing: border-box;top: 0;bottom: 0;left: 50%;z-index: 0;}#sk-container-id-1 div.sk-serial {display: flex;flex-direction: column;align-items: center;background-color: white;padding-right: 0.2em;padding-left: 0.2em;position: relative;}#sk-container-id-1 div.sk-item {position: relative;z-index: 1;}#sk-container-id-1 div.sk-parallel {display: flex;align-items: stretch;justify-content: center;background-color: white;position: relative;}#sk-container-id-1 div.sk-item::before, #sk-container-id-1 div.sk-parallel-item::before {content: \"\";position: absolute;border-left: 1px solid gray;box-sizing: border-box;top: 0;bottom: 0;left: 50%;z-index: -1;}#sk-container-id-1 div.sk-parallel-item {display: flex;flex-direction: column;z-index: 1;position: relative;background-color: white;}#sk-container-id-1 div.sk-parallel-item:first-child::after {align-self: flex-end;width: 50%;}#sk-container-id-1 div.sk-parallel-item:last-child::after {align-self: flex-start;width: 50%;}#sk-container-id-1 div.sk-parallel-item:only-child::after {width: 0;}#sk-container-id-1 div.sk-dashed-wrapped {border: 1px dashed gray;margin: 0 0.4em 0.5em 0.4em;box-sizing: border-box;padding-bottom: 0.4em;background-color: white;}#sk-container-id-1 div.sk-label label {font-family: monospace;font-weight: bold;display: inline-block;line-height: 1.2em;}#sk-container-id-1 div.sk-label-container {text-align: center;}#sk-container-id-1 div.sk-container {/* jupyter's `normalize.less` sets `[hidden] { display: none; }` but bootstrap.min.css set `[hidden] { display: none !important; }` so we also need the `!important` here to be able to override the default hidden behavior on the sphinx rendered scikit-learn.org. See: https://github.com/scikit-learn/scikit-learn/issues/21755 */display: inline-block !important;position: relative;}#sk-container-id-1 div.sk-text-repr-fallback {display: none;}</style><div id=\"sk-container-id-1\" class=\"sk-top-container\"><div class=\"sk-text-repr-fallback\"><pre>SVC()</pre><b>In a Jupyter environment, please rerun this cell to show the HTML representation or trust the notebook. <br />On GitHub, the HTML representation is unable to render, please try loading this page with nbviewer.org.</b></div><div class=\"sk-container\" hidden><div class=\"sk-item\"><div class=\"sk-estimator sk-toggleable\"><input class=\"sk-toggleable__control sk-hidden--visually\" id=\"sk-estimator-id-1\" type=\"checkbox\" checked><label for=\"sk-estimator-id-1\" class=\"sk-toggleable__label sk-toggleable__label-arrow\">SVC</label><div class=\"sk-toggleable__content\"><pre>SVC()</pre></div></div></div></div></div>"
            ]
          },
          "metadata": {},
          "execution_count": 25
        }
      ]
    },
    {
      "cell_type": "code",
      "source": [
        "y_pred_SVM = sv_cl.predict(x_test)"
      ],
      "metadata": {
        "id": "eO54TS5GtQh7"
      },
      "execution_count": 26,
      "outputs": []
    },
    {
      "cell_type": "code",
      "source": [
        "Score_Comparison(y_test, y_pred_SVM)"
      ],
      "metadata": {
        "colab": {
          "base_uri": "https://localhost:8080/"
        },
        "id": "5qbnmnBOtYy_",
        "outputId": "f9a27267-b9ff-43b1-fb58-696731c905cd"
      },
      "execution_count": 27,
      "outputs": [
        {
          "output_type": "stream",
          "name": "stdout",
          "text": [
            "Accuracy score:  0.98\n",
            "Precision score:  0.98\n",
            "Recall score:  0.98\n",
            "F1 score:  0.98\n"
          ]
        }
      ]
    },
    {
      "cell_type": "markdown",
      "source": [
        "**Decision Tree**"
      ],
      "metadata": {
        "id": "Nn0S6EfIt94W"
      }
    },
    {
      "cell_type": "code",
      "source": [
        "from sklearn.tree import DecisionTreeClassifier\n",
        "dt_cl = DecisionTreeClassifier(random_state =1)\n",
        "dt_cl.fit(x_train, y_train)\n",
        "y_pred_dt = dt_cl.predict(x_test)"
      ],
      "metadata": {
        "id": "RXIHyqDmtbXn"
      },
      "execution_count": 28,
      "outputs": []
    },
    {
      "cell_type": "code",
      "source": [
        "Score_Comparison(y_test,y_pred_dt)"
      ],
      "metadata": {
        "colab": {
          "base_uri": "https://localhost:8080/"
        },
        "id": "l2auaK4ftwi_",
        "outputId": "909495be-4ff1-407c-f566-147121db1d5e"
      },
      "execution_count": 29,
      "outputs": [
        {
          "output_type": "stream",
          "name": "stdout",
          "text": [
            "Accuracy score:  0.88\n",
            "Precision score:  0.88\n",
            "Recall score:  0.88\n",
            "F1 score:  0.88\n"
          ]
        }
      ]
    },
    {
      "cell_type": "markdown",
      "source": [
        "**Random Forest**"
      ],
      "metadata": {
        "id": "ZzRAMxCxt6kb"
      }
    },
    {
      "cell_type": "code",
      "source": [
        "from sklearn.ensemble import RandomForestClassifier\n",
        "rf_cl = RandomForestClassifier(random_state = 2, n_estimators=20, max_depth = 20, criterion='entropy')\n",
        "rf_cl.fit(x_train, y_train)\n",
        "y_pred_rf = rf_cl.predict(x_test)"
      ],
      "metadata": {
        "id": "FF_rEJIXt0Wn"
      },
      "execution_count": 30,
      "outputs": []
    },
    {
      "cell_type": "code",
      "source": [
        "Score_Comparison(y_test,y_pred_rf)"
      ],
      "metadata": {
        "colab": {
          "base_uri": "https://localhost:8080/"
        },
        "id": "cepVY1uyuA4R",
        "outputId": "9781d3e4-b866-4259-a3f6-18692421f631"
      },
      "execution_count": 31,
      "outputs": [
        {
          "output_type": "stream",
          "name": "stdout",
          "text": [
            "Accuracy score:  0.92\n",
            "Precision score:  0.92\n",
            "Recall score:  0.92\n",
            "F1 score:  0.92\n"
          ]
        }
      ]
    },
    {
      "cell_type": "markdown",
      "source": [
        "**Inference**: From above results, we can see that the best model for iris dataset is k-NN and SVM as they gave the highest accuracy score"
      ],
      "metadata": {
        "id": "dq7YcVu6Flpb"
      }
    }
  ]
}