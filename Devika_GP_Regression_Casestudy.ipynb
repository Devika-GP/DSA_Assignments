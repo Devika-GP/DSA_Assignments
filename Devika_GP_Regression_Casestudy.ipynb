{
  "nbformat": 4,
  "nbformat_minor": 0,
  "metadata": {
    "colab": {
      "provenance": []
    },
    "kernelspec": {
      "name": "python3",
      "display_name": "Python 3"
    },
    "language_info": {
      "name": "python"
    }
  },
  "cells": [
    {
      "cell_type": "markdown",
      "source": [
        "**Importing libraries and loading data set**"
      ],
      "metadata": {
        "id": "G8ghYixFG2_X"
      }
    },
    {
      "cell_type": "code",
      "execution_count": 1,
      "metadata": {
        "id": "j9qkPsGjqV5U"
      },
      "outputs": [],
      "source": [
        "import pandas as pd\n",
        "import numpy as np\n",
        "import matplotlib.pyplot as plt\n",
        "import seaborn as sns"
      ]
    },
    {
      "cell_type": "code",
      "source": [
        "data = pd.read_csv('/content/car_age_price.csv')\n",
        "data.head()"
      ],
      "metadata": {
        "colab": {
          "base_uri": "https://localhost:8080/",
          "height": 206
        },
        "id": "7wOzczTCrMHR",
        "outputId": "b59f8302-f2a7-4fdf-8813-0c7a1b39a58c"
      },
      "execution_count": 2,
      "outputs": [
        {
          "output_type": "execute_result",
          "data": {
            "text/plain": [
              "   Year   Price\n",
              "0  2018  465000\n",
              "1  2019  755000\n",
              "2  2019  700000\n",
              "3  2018  465000\n",
              "4  2018  465000"
            ],
            "text/html": [
              "\n",
              "  <div id=\"df-b840a69c-e984-4513-a4bd-b31db13bcaf1\" class=\"colab-df-container\">\n",
              "    <div>\n",
              "<style scoped>\n",
              "    .dataframe tbody tr th:only-of-type {\n",
              "        vertical-align: middle;\n",
              "    }\n",
              "\n",
              "    .dataframe tbody tr th {\n",
              "        vertical-align: top;\n",
              "    }\n",
              "\n",
              "    .dataframe thead th {\n",
              "        text-align: right;\n",
              "    }\n",
              "</style>\n",
              "<table border=\"1\" class=\"dataframe\">\n",
              "  <thead>\n",
              "    <tr style=\"text-align: right;\">\n",
              "      <th></th>\n",
              "      <th>Year</th>\n",
              "      <th>Price</th>\n",
              "    </tr>\n",
              "  </thead>\n",
              "  <tbody>\n",
              "    <tr>\n",
              "      <th>0</th>\n",
              "      <td>2018</td>\n",
              "      <td>465000</td>\n",
              "    </tr>\n",
              "    <tr>\n",
              "      <th>1</th>\n",
              "      <td>2019</td>\n",
              "      <td>755000</td>\n",
              "    </tr>\n",
              "    <tr>\n",
              "      <th>2</th>\n",
              "      <td>2019</td>\n",
              "      <td>700000</td>\n",
              "    </tr>\n",
              "    <tr>\n",
              "      <th>3</th>\n",
              "      <td>2018</td>\n",
              "      <td>465000</td>\n",
              "    </tr>\n",
              "    <tr>\n",
              "      <th>4</th>\n",
              "      <td>2018</td>\n",
              "      <td>465000</td>\n",
              "    </tr>\n",
              "  </tbody>\n",
              "</table>\n",
              "</div>\n",
              "    <div class=\"colab-df-buttons\">\n",
              "\n",
              "  <div class=\"colab-df-container\">\n",
              "    <button class=\"colab-df-convert\" onclick=\"convertToInteractive('df-b840a69c-e984-4513-a4bd-b31db13bcaf1')\"\n",
              "            title=\"Convert this dataframe to an interactive table.\"\n",
              "            style=\"display:none;\">\n",
              "\n",
              "  <svg xmlns=\"http://www.w3.org/2000/svg\" height=\"24px\" viewBox=\"0 -960 960 960\">\n",
              "    <path d=\"M120-120v-720h720v720H120Zm60-500h600v-160H180v160Zm220 220h160v-160H400v160Zm0 220h160v-160H400v160ZM180-400h160v-160H180v160Zm440 0h160v-160H620v160ZM180-180h160v-160H180v160Zm440 0h160v-160H620v160Z\"/>\n",
              "  </svg>\n",
              "    </button>\n",
              "\n",
              "  <style>\n",
              "    .colab-df-container {\n",
              "      display:flex;\n",
              "      gap: 12px;\n",
              "    }\n",
              "\n",
              "    .colab-df-convert {\n",
              "      background-color: #E8F0FE;\n",
              "      border: none;\n",
              "      border-radius: 50%;\n",
              "      cursor: pointer;\n",
              "      display: none;\n",
              "      fill: #1967D2;\n",
              "      height: 32px;\n",
              "      padding: 0 0 0 0;\n",
              "      width: 32px;\n",
              "    }\n",
              "\n",
              "    .colab-df-convert:hover {\n",
              "      background-color: #E2EBFA;\n",
              "      box-shadow: 0px 1px 2px rgba(60, 64, 67, 0.3), 0px 1px 3px 1px rgba(60, 64, 67, 0.15);\n",
              "      fill: #174EA6;\n",
              "    }\n",
              "\n",
              "    .colab-df-buttons div {\n",
              "      margin-bottom: 4px;\n",
              "    }\n",
              "\n",
              "    [theme=dark] .colab-df-convert {\n",
              "      background-color: #3B4455;\n",
              "      fill: #D2E3FC;\n",
              "    }\n",
              "\n",
              "    [theme=dark] .colab-df-convert:hover {\n",
              "      background-color: #434B5C;\n",
              "      box-shadow: 0px 1px 3px 1px rgba(0, 0, 0, 0.15);\n",
              "      filter: drop-shadow(0px 1px 2px rgba(0, 0, 0, 0.3));\n",
              "      fill: #FFFFFF;\n",
              "    }\n",
              "  </style>\n",
              "\n",
              "    <script>\n",
              "      const buttonEl =\n",
              "        document.querySelector('#df-b840a69c-e984-4513-a4bd-b31db13bcaf1 button.colab-df-convert');\n",
              "      buttonEl.style.display =\n",
              "        google.colab.kernel.accessAllowed ? 'block' : 'none';\n",
              "\n",
              "      async function convertToInteractive(key) {\n",
              "        const element = document.querySelector('#df-b840a69c-e984-4513-a4bd-b31db13bcaf1');\n",
              "        const dataTable =\n",
              "          await google.colab.kernel.invokeFunction('convertToInteractive',\n",
              "                                                    [key], {});\n",
              "        if (!dataTable) return;\n",
              "\n",
              "        const docLinkHtml = 'Like what you see? Visit the ' +\n",
              "          '<a target=\"_blank\" href=https://colab.research.google.com/notebooks/data_table.ipynb>data table notebook</a>'\n",
              "          + ' to learn more about interactive tables.';\n",
              "        element.innerHTML = '';\n",
              "        dataTable['output_type'] = 'display_data';\n",
              "        await google.colab.output.renderOutput(dataTable, element);\n",
              "        const docLink = document.createElement('div');\n",
              "        docLink.innerHTML = docLinkHtml;\n",
              "        element.appendChild(docLink);\n",
              "      }\n",
              "    </script>\n",
              "  </div>\n",
              "\n",
              "\n",
              "<div id=\"df-c340e425-648f-42b7-af64-a22ef6d8a4d6\">\n",
              "  <button class=\"colab-df-quickchart\" onclick=\"quickchart('df-c340e425-648f-42b7-af64-a22ef6d8a4d6')\"\n",
              "            title=\"Suggest charts\"\n",
              "            style=\"display:none;\">\n",
              "\n",
              "<svg xmlns=\"http://www.w3.org/2000/svg\" height=\"24px\"viewBox=\"0 0 24 24\"\n",
              "     width=\"24px\">\n",
              "    <g>\n",
              "        <path d=\"M19 3H5c-1.1 0-2 .9-2 2v14c0 1.1.9 2 2 2h14c1.1 0 2-.9 2-2V5c0-1.1-.9-2-2-2zM9 17H7v-7h2v7zm4 0h-2V7h2v10zm4 0h-2v-4h2v4z\"/>\n",
              "    </g>\n",
              "</svg>\n",
              "  </button>\n",
              "\n",
              "<style>\n",
              "  .colab-df-quickchart {\n",
              "      --bg-color: #E8F0FE;\n",
              "      --fill-color: #1967D2;\n",
              "      --hover-bg-color: #E2EBFA;\n",
              "      --hover-fill-color: #174EA6;\n",
              "      --disabled-fill-color: #AAA;\n",
              "      --disabled-bg-color: #DDD;\n",
              "  }\n",
              "\n",
              "  [theme=dark] .colab-df-quickchart {\n",
              "      --bg-color: #3B4455;\n",
              "      --fill-color: #D2E3FC;\n",
              "      --hover-bg-color: #434B5C;\n",
              "      --hover-fill-color: #FFFFFF;\n",
              "      --disabled-bg-color: #3B4455;\n",
              "      --disabled-fill-color: #666;\n",
              "  }\n",
              "\n",
              "  .colab-df-quickchart {\n",
              "    background-color: var(--bg-color);\n",
              "    border: none;\n",
              "    border-radius: 50%;\n",
              "    cursor: pointer;\n",
              "    display: none;\n",
              "    fill: var(--fill-color);\n",
              "    height: 32px;\n",
              "    padding: 0;\n",
              "    width: 32px;\n",
              "  }\n",
              "\n",
              "  .colab-df-quickchart:hover {\n",
              "    background-color: var(--hover-bg-color);\n",
              "    box-shadow: 0 1px 2px rgba(60, 64, 67, 0.3), 0 1px 3px 1px rgba(60, 64, 67, 0.15);\n",
              "    fill: var(--button-hover-fill-color);\n",
              "  }\n",
              "\n",
              "  .colab-df-quickchart-complete:disabled,\n",
              "  .colab-df-quickchart-complete:disabled:hover {\n",
              "    background-color: var(--disabled-bg-color);\n",
              "    fill: var(--disabled-fill-color);\n",
              "    box-shadow: none;\n",
              "  }\n",
              "\n",
              "  .colab-df-spinner {\n",
              "    border: 2px solid var(--fill-color);\n",
              "    border-color: transparent;\n",
              "    border-bottom-color: var(--fill-color);\n",
              "    animation:\n",
              "      spin 1s steps(1) infinite;\n",
              "  }\n",
              "\n",
              "  @keyframes spin {\n",
              "    0% {\n",
              "      border-color: transparent;\n",
              "      border-bottom-color: var(--fill-color);\n",
              "      border-left-color: var(--fill-color);\n",
              "    }\n",
              "    20% {\n",
              "      border-color: transparent;\n",
              "      border-left-color: var(--fill-color);\n",
              "      border-top-color: var(--fill-color);\n",
              "    }\n",
              "    30% {\n",
              "      border-color: transparent;\n",
              "      border-left-color: var(--fill-color);\n",
              "      border-top-color: var(--fill-color);\n",
              "      border-right-color: var(--fill-color);\n",
              "    }\n",
              "    40% {\n",
              "      border-color: transparent;\n",
              "      border-right-color: var(--fill-color);\n",
              "      border-top-color: var(--fill-color);\n",
              "    }\n",
              "    60% {\n",
              "      border-color: transparent;\n",
              "      border-right-color: var(--fill-color);\n",
              "    }\n",
              "    80% {\n",
              "      border-color: transparent;\n",
              "      border-right-color: var(--fill-color);\n",
              "      border-bottom-color: var(--fill-color);\n",
              "    }\n",
              "    90% {\n",
              "      border-color: transparent;\n",
              "      border-bottom-color: var(--fill-color);\n",
              "    }\n",
              "  }\n",
              "</style>\n",
              "\n",
              "  <script>\n",
              "    async function quickchart(key) {\n",
              "      const quickchartButtonEl =\n",
              "        document.querySelector('#' + key + ' button');\n",
              "      quickchartButtonEl.disabled = true;  // To prevent multiple clicks.\n",
              "      quickchartButtonEl.classList.add('colab-df-spinner');\n",
              "      try {\n",
              "        const charts = await google.colab.kernel.invokeFunction(\n",
              "            'suggestCharts', [key], {});\n",
              "      } catch (error) {\n",
              "        console.error('Error during call to suggestCharts:', error);\n",
              "      }\n",
              "      quickchartButtonEl.classList.remove('colab-df-spinner');\n",
              "      quickchartButtonEl.classList.add('colab-df-quickchart-complete');\n",
              "    }\n",
              "    (() => {\n",
              "      let quickchartButtonEl =\n",
              "        document.querySelector('#df-c340e425-648f-42b7-af64-a22ef6d8a4d6 button');\n",
              "      quickchartButtonEl.style.display =\n",
              "        google.colab.kernel.accessAllowed ? 'block' : 'none';\n",
              "    })();\n",
              "  </script>\n",
              "</div>\n",
              "\n",
              "    </div>\n",
              "  </div>\n"
            ],
            "application/vnd.google.colaboratory.intrinsic+json": {
              "type": "dataframe",
              "variable_name": "data",
              "summary": "{\n  \"name\": \"data\",\n  \"rows\": 112,\n  \"fields\": [\n    {\n      \"column\": \"Year\",\n      \"properties\": {\n        \"dtype\": \"number\",\n        \"std\": 1,\n        \"min\": 2013,\n        \"max\": 2020,\n        \"num_unique_values\": 8,\n        \"samples\": [\n          2019,\n          2020,\n          2018\n        ],\n        \"semantic_type\": \"\",\n        \"description\": \"\"\n      }\n    },\n    {\n      \"column\": \"Price\",\n      \"properties\": {\n        \"dtype\": \"number\",\n        \"std\": 91217,\n        \"min\": 300000,\n        \"max\": 755000,\n        \"num_unique_values\": 35,\n        \"samples\": [\n          300000,\n          450000,\n          495000\n        ],\n        \"semantic_type\": \"\",\n        \"description\": \"\"\n      }\n    }\n  ]\n}"
            }
          },
          "metadata": {},
          "execution_count": 2
        }
      ]
    },
    {
      "cell_type": "markdown",
      "source": [
        "**Checking basic details of given data**"
      ],
      "metadata": {
        "id": "e4UeU3TmL0u1"
      }
    },
    {
      "cell_type": "code",
      "source": [
        "print(data.info(),'\\n')\n",
        "print(data.isna().sum(),'\\n')\n",
        "print(data.describe())"
      ],
      "metadata": {
        "colab": {
          "base_uri": "https://localhost:8080/"
        },
        "id": "7Q7Ks0xorQgV",
        "outputId": "b487b057-29d5-466d-b955-7a8d859349af"
      },
      "execution_count": 3,
      "outputs": [
        {
          "output_type": "stream",
          "name": "stdout",
          "text": [
            "<class 'pandas.core.frame.DataFrame'>\n",
            "RangeIndex: 112 entries, 0 to 111\n",
            "Data columns (total 2 columns):\n",
            " #   Column  Non-Null Count  Dtype\n",
            "---  ------  --------------  -----\n",
            " 0   Year    112 non-null    int64\n",
            " 1   Price   112 non-null    int64\n",
            "dtypes: int64(2)\n",
            "memory usage: 1.9 KB\n",
            "None \n",
            "\n",
            "Year     0\n",
            "Price    0\n",
            "dtype: int64 \n",
            "\n",
            "              Year          Price\n",
            "count   112.000000     112.000000\n",
            "mean   2016.669643  483866.044643\n",
            "std       1.629616   91217.450533\n",
            "min    2013.000000  300000.000000\n",
            "25%    2015.000000  423750.000000\n",
            "50%    2017.000000  500000.000000\n",
            "75%    2017.000000  550000.000000\n",
            "max    2020.000000  755000.000000\n"
          ]
        }
      ]
    },
    {
      "cell_type": "code",
      "source": [
        "print('Unique \"Year\" values: ', data['Year'].unique(),'\\n')\n",
        "print('Unique \"Price\" values: ',data['Price'].unique())"
      ],
      "metadata": {
        "colab": {
          "base_uri": "https://localhost:8080/"
        },
        "id": "HqTJf_zHJZ8a",
        "outputId": "2a940273-bce7-4505-d947-9dccf98f1ef6"
      },
      "execution_count": 4,
      "outputs": [
        {
          "output_type": "stream",
          "name": "stdout",
          "text": [
            "Unique \"Year\" values:  [2018 2019 2015 2016 2017 2020 2013 2014] \n",
            "\n",
            "Unique \"Price\" values:  [465000 755000 700000 350000 425000 575000 509999 500000 600000 475000\n",
            " 550000 434999 650000 450000 486000 545000 525000 396000 325000 345000\n",
            " 341000 490000 540000 595000 495000 400000 300000 320000 409999 390000\n",
            " 480000 520000 640000 375000 420000]\n"
          ]
        }
      ]
    },
    {
      "cell_type": "markdown",
      "source": [
        "By looking at the dataset, some duplicate rows are noticed.\n",
        "But we can see that the table is randomly generated by taking combination of a set of year-price values, thus we are ignoring duplicate rows and leave them as such in our data set."
      ],
      "metadata": {
        "id": "B-JN_V53KJqA"
      }
    },
    {
      "cell_type": "markdown",
      "source": [
        "**Data visualization**"
      ],
      "metadata": {
        "id": "JdvtpjQCLtjb"
      }
    },
    {
      "cell_type": "code",
      "source": [
        "freq_data = data.select_dtypes(['float64','int64','int32'])\n",
        "freq_data.hist(figsize = (12,6))\n",
        "plt.show()"
      ],
      "metadata": {
        "colab": {
          "base_uri": "https://localhost:8080/",
          "height": 545
        },
        "id": "UPAq4o4Urv5o",
        "outputId": "cb81c3bc-aaf6-4314-87c7-2c5a84e044ae"
      },
      "execution_count": 5,
      "outputs": [
        {
          "output_type": "display_data",
          "data": {
            "text/plain": [
              "<Figure size 1200x600 with 2 Axes>"
            ],
            "image/png": "[encoded data removed]"
          },
          "metadata": {}
        }
      ]
    },
    {
      "cell_type": "markdown",
      "source": [
        "**Outlier handling**"
      ],
      "metadata": {
        "id": "dP11pw6dLoE5"
      }
    },
    {
      "cell_type": "code",
      "source": [
        "#checking outliers in independent feature only\n",
        "plt.boxplot(data['Year'])\n",
        "plt.show()\n",
        "\n",
        "#no outliers found"
      ],
      "metadata": {
        "colab": {
          "base_uri": "https://localhost:8080/",
          "height": 430
        },
        "id": "jdBSE6tjD5zE",
        "outputId": "35780667-39c2-4eda-8509-68995ad9afef"
      },
      "execution_count": 6,
      "outputs": [
        {
          "output_type": "display_data",
          "data": {
            "text/plain": [
              "<Figure size 640x480 with 1 Axes>"
            ],
            "image/png": "[encoded data removed]"
          },
          "metadata": {}
        }
      ]
    },
    {
      "cell_type": "markdown",
      "source": [
        "**Finding correlation**"
      ],
      "metadata": {
        "id": "GOqv9ixgSa83"
      }
    },
    {
      "cell_type": "code",
      "source": [
        "sns.heatmap(data.corr(), annot = True, vmin = -1, vmax = 1, cmap = 'YlGnBu')\n",
        "plt.show()"
      ],
      "metadata": {
        "colab": {
          "base_uri": "https://localhost:8080/",
          "height": 435
        },
        "id": "3DpLhuDIODx9",
        "outputId": "e8c236ad-f6e8-4ad2-901b-a0d15f947153"
      },
      "execution_count": 7,
      "outputs": [
        {
          "output_type": "display_data",
          "data": {
            "text/plain": [
              "<Figure size 640x480 with 2 Axes>"
            ],
            "image/png": "[encoded data removed]"
          },
          "metadata": {}
        }
      ]
    },
    {
      "cell_type": "markdown",
      "source": [
        "We can see that there is high correlation between Year and Price"
      ],
      "metadata": {
        "id": "XEAVvydhrdsk"
      }
    },
    {
      "cell_type": "markdown",
      "source": [
        "**Regression models**"
      ],
      "metadata": {
        "id": "N2V5pMZW2GyM"
      }
    },
    {
      "cell_type": "markdown",
      "source": [
        "Linear Regression"
      ],
      "metadata": {
        "id": "KK5RI4wbUiqz"
      }
    },
    {
      "cell_type": "code",
      "source": [
        "#Splitting dependent and independent features\n",
        "\n",
        "y_data = data['Price']\n",
        "x_data = data.drop(['Price'], axis = 1)"
      ],
      "metadata": {
        "id": "mEnOQH8rSdsm"
      },
      "execution_count": 20,
      "outputs": []
    },
    {
      "cell_type": "code",
      "source": [
        "#splitting to train and test sets\n",
        "\n",
        "from sklearn.model_selection import train_test_split\n",
        "x_train, x_test, y_train, y_test = train_test_split(x_data, y_data, random_state = 42, test_size = .25)"
      ],
      "metadata": {
        "id": "GR9E0VbgXK2S"
      },
      "execution_count": 21,
      "outputs": []
    },
    {
      "cell_type": "code",
      "source": [
        "#fitting train sets into linear regression model\n",
        "\n",
        "from sklearn import linear_model\n",
        "lm = linear_model.LinearRegression()\n",
        "x_train = x_train.values\n",
        "lm_model = lm.fit(x_train, y_train)\n",
        "\n",
        "#doing prediction on 2022 model\n",
        "pred_lm = lm_model.predict([[2022]])\n",
        "print('Predicted value for 2022 model i10 (by linear regression): \\033[1m', pred_lm[0])\n"
      ],
      "metadata": {
        "colab": {
          "base_uri": "https://localhost:8080/"
        },
        "id": "ih1QuTWSXVqS",
        "outputId": "17cc3110-18d3-463e-d0f8-114c6dedd5d5"
      },
      "execution_count": 22,
      "outputs": [
        {
          "output_type": "stream",
          "name": "stdout",
          "text": [
            "Predicted value for 2022 model i10 (by linear regression): \u001b[1m 740160.1193776578\n"
          ]
        }
      ]
    },
    {
      "cell_type": "markdown",
      "source": [
        "Lasso Regression"
      ],
      "metadata": {
        "id": "TIqnAlxX1_Bi"
      }
    },
    {
      "cell_type": "code",
      "source": [
        "#fitting train sets into lasso regression model\n",
        "\n",
        "from sklearn.linear_model import Lasso\n",
        "ls = Lasso(alpha=1.0)\n",
        "ls_model = ls.fit(x_train, y_train)\n",
        "\n",
        "#doing prediction on 2022 model\n",
        "pred_ls = ls_model.predict([[2022]])\n",
        "print('Predicted value for 2022 model i10 (by lasso regression): \\033[1m', pred_ls[0])\n"
      ],
      "metadata": {
        "colab": {
          "base_uri": "https://localhost:8080/"
        },
        "id": "-LoSzV8S1z71",
        "outputId": "98342e66-3a12-4aa7-ed2f-f14d7e064596"
      },
      "execution_count": 23,
      "outputs": [
        {
          "output_type": "stream",
          "name": "stdout",
          "text": [
            "Predicted value for 2022 model i10 (by lasso regression): \u001b[1m 740157.9570014179\n"
          ]
        }
      ]
    },
    {
      "cell_type": "markdown",
      "source": [
        "Using **MAPE** for calculating model goodness as MSE showed a very high value\n",
        "\n",
        "**Reason:** MSE is scale-dependent, MAPE is not. So if you are comparing accuracy across time series with different scales, you can use MAPE. MAPE is often preferred because it is easy to understand percentages better than squared errors."
      ],
      "metadata": {
        "id": "O94bTbKp8_h6"
      }
    },
    {
      "cell_type": "code",
      "source": [
        "#to check goodness of each model using MAPE\n",
        "\n",
        "from sklearn.metrics import mean_absolute_percentage_error\n",
        "print('MAPE of linear model is: ', 100*mean_absolute_percentage_error(y_test, lm_model.predict(x_test.values)),'%')\n",
        "print('MAPE of lasso model is: ', 100*mean_absolute_percentage_error(y_test, ls_model.predict(x_test.values)),'%')\n",
        "\n",
        "print('\\n\\033[1mNote: A MAPE value of <10% indicates high accurate prediction, 10% ≤ MAPE <20% indicates good prediction')"
      ],
      "metadata": {
        "colab": {
          "base_uri": "https://localhost:8080/"
        },
        "id": "UUa39FD0Xq-o",
        "outputId": "1ef1fc2c-16ea-4e20-d8fb-8d88fe00ba9b"
      },
      "execution_count": 24,
      "outputs": [
        {
          "output_type": "stream",
          "name": "stdout",
          "text": [
            "MAPE of linear model is:  11.358598198164696 %\n",
            "MAPE of lasso model is:  11.358527503340579 %\n",
            "\n",
            "\u001b[1mNote: A MAPE value of <10% indicates high accurate prediction, 10% ≤ MAPE <20% indicates good prediction\n"
          ]
        }
      ]
    },
    {
      "cell_type": "markdown",
      "source": [
        "Getting error% after scaling the x values (independent features)"
      ],
      "metadata": {
        "id": "rJJ0mpq3FnnO"
      }
    },
    {
      "cell_type": "code",
      "source": [
        "#standard scaling x_train and x_test sets\n",
        "\n",
        "from sklearn.preprocessing import StandardScaler\n",
        "sc = StandardScaler()\n",
        "x_train_scaled = sc.fit_transform(x_train)\n",
        "x_test_scaled = sc.fit_transform(x_test)"
      ],
      "metadata": {
        "id": "35qxyXFAoCy_"
      },
      "execution_count": 25,
      "outputs": []
    },
    {
      "cell_type": "code",
      "source": [
        "#model fitting and prediction\n",
        "\n",
        "#linear model\n",
        "lm_model_scaled = lm.fit(x_train_scaled, y_train)\n",
        "pred_lm_scaled = lm_model_scaled.predict(x_test_scaled)\n",
        "\n",
        "#lasso model\n",
        "ls_model_scaled = ls.fit(x_train_scaled, y_train)\n",
        "pred_ls_scaled = ls_model_scaled.predict(x_test_scaled)"
      ],
      "metadata": {
        "id": "SDb8nE18omhO"
      },
      "execution_count": 26,
      "outputs": []
    },
    {
      "cell_type": "code",
      "source": [
        "#to check goodness of each model using MAPE\n",
        "\n",
        "from sklearn.metrics import mean_absolute_percentage_error\n",
        "print('MAPE of linear model is: ', 100*mean_absolute_percentage_error(y_test, pred_lm_scaled),'%')\n",
        "print('MAPE of lasso model is: ', 100*mean_absolute_percentage_error(y_test, pred_ls_scaled),'%')\n",
        "\n",
        "print('\\n\\033[1mNote: A MAPE value of <10% indicates high accurate prediction, 10% ≤ MAPE <20% indicates good prediction')"
      ],
      "metadata": {
        "colab": {
          "base_uri": "https://localhost:8080/"
        },
        "id": "71zZ28diEAoc",
        "outputId": "c0bf254a-1bc2-40fa-da28-050f8b4e1c06"
      },
      "execution_count": 27,
      "outputs": [
        {
          "output_type": "stream",
          "name": "stdout",
          "text": [
            "MAPE of linear model is:  10.915761138466337 %\n",
            "MAPE of lasso model is:  10.915694155960102 %\n",
            "\n",
            "\u001b[1mNote: A MAPE value of <10% indicates high accurate prediction, 10% ≤ MAPE <20% indicates good prediction\n"
          ]
        }
      ]
    },
    {
      "cell_type": "markdown",
      "source": [
        "***Inference:***\n",
        "\n",
        "We can see that the mean absolute percentage error (MAPE) is slightly less for LASSO regression which makes it better than linear model for a small data set.\n",
        "The main goal of using LASSO regression is to find the subset of predictors that minimizes the prediction error in the linear regression models.\n",
        "\n",
        "**Note**: It's also noted that scaling helps in furthur reduction of the error percentage"
      ],
      "metadata": {
        "id": "GWRALqo24SjB"
      }
    }
  ]
}